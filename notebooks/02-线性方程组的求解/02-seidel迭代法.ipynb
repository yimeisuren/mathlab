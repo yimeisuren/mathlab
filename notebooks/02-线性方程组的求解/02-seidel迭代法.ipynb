{
 "cells": [
  {
   "cell_type": "markdown",
   "source": [
    "# seidel迭代法\n",
    "\n",
    "在jacobi迭代法的基础上, 每次更新 $x_i$, 便在计算下一轮 $x_{i+1}$ 的时使用更新后的 $x_k, k \\le i$\n",
    "\n",
    "将矩阵 $A$ 分解为 $L + D + U$, 代入到jacobi的迭代式中可以得到$$x = -D ^ { - 1 } ( L + U ) x + D ^ { - 1 } b$$\n",
    "\n",
    "转换为迭代形式$$x ^ { ( k + 1 ) } = -D ^ { - 1 } ( L x ^ { ( k + 1 ) } + U x ^ { ( k ) } ) + D ^ { - 1 } b$$, 解得\n",
    "$$x ^ { ( k + 1 ) } = -( D + L ) ^ { - 1 } U x ^ { ( k ) } + ( D + L ) ^ { - 1 } b$$"
   ],
   "metadata": {
    "collapsed": false
   }
  },
  {
   "cell_type": "code",
   "execution_count": null,
   "metadata": {
    "collapsed": true
   },
   "outputs": [],
   "source": []
  }
 ],
 "metadata": {
  "kernelspec": {
   "display_name": "Python 3",
   "language": "python",
   "name": "python3"
  },
  "language_info": {
   "codemirror_mode": {
    "name": "ipython",
    "version": 2
   },
   "file_extension": ".py",
   "mimetype": "text/x-python",
   "name": "python",
   "nbconvert_exporter": "python",
   "pygments_lexer": "ipython2",
   "version": "2.7.6"
  }
 },
 "nbformat": 4,
 "nbformat_minor": 0
}