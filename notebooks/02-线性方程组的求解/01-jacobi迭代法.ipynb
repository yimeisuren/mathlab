{
 "cells": [
  {
   "cell_type": "markdown",
   "source": [
    "# Jacobi迭代解法\n",
    "\n",
    "**线性代数公式:** $x^{(k+1)} =D^{-1} b-D^{-1} L x^{(k)}-D^{-1} R x^{(k)}$\n",
    "\n",
    "\n",
    "$\\alpha = [[a_{11}],\n",
    "           [a_{22}],\n",
    "           [a_{33}],\n",
    "           ...,\n",
    "           [a_{nn}]\n",
    "           ]^T$\n",
    "\n",
    "$\\alpha * x = b - Ax + \\alpha * x$\n",
    "\n",
    "$ x_{k+1} = (b/\\alpha) - (A/\\alpha) x_k +  x_{k}$"
   ],
   "metadata": {
    "collapsed": false
   }
  },
  {
   "cell_type": "code",
   "execution_count": 16,
   "metadata": {
    "collapsed": true
   },
   "outputs": [],
   "source": [
    "import numpy as np\n",
    "\n",
    "\n",
    "def ln(x: np.ndarray, newX: np.ndarray):\n",
    "    return np.max(np.abs(newX - x))\n",
    "\n",
    "\n",
    "def l2(x: np.ndarray, newX: np.ndarray):\n",
    "    return np.sqrt(np.sum(np.square(newX - x)))\n",
    "\n",
    "\n",
    "def jacobi(A, x, b, distance, e):\n",
    "    a = np.diagonal(A).reshape(-1,1)\n",
    "    b = b/a\n",
    "    A = A/a\n",
    "\n",
    "    result = []\n",
    "    while True:\n",
    "        newX = b - np.dot(A, x) + x\n",
    "        if distance(x, newX) < e:\n",
    "            break\n",
    "        x = newX\n",
    "        result.append(x)\n",
    "    return result"
   ]
  },
  {
   "cell_type": "code",
   "execution_count": 17,
   "outputs": [
    {
     "data": {
      "text/plain": "[array([[-2.4],\n        [ 5. ],\n        [ 0.3]]),\n array([[-4.58],\n        [ 4.25],\n        [ 2.28]]),\n array([[-5.468],\n        [ 2.715],\n        [ 2.491]]),\n array([[-4.9806],\n        [ 2.3875],\n        [ 2.2081]]),\n array([[-4.67986],\n        [ 2.6508 ],\n        [ 2.01237]]),\n array([[-4.667742],\n        [ 2.82385 ],\n        [ 2.031212]]),\n array([[-4.7482672],\n        [ 2.8174585],\n        [ 2.0807034]]),\n array([[-4.77540544],\n        [ 2.7725815 ],\n        [ 2.09489099]]),\n array([[-4.76596719],\n        [ 2.75870315],\n        [ 2.08685554]]),\n array([[-4.75559458],\n        [ 2.76508043],\n        [ 2.08080438]]),\n array([[-4.7545148 ],\n        [ 2.77069916],\n        [ 2.08064305]]),\n array([[-4.75666549],\n        [ 2.77104978],\n        [ 2.08211271]]),\n array([[-4.75768754],\n        [ 2.76977727],\n        [ 2.08264803]]),\n array([[-4.75749973],\n        [ 2.7692541 ],\n        [ 2.08247069]]),\n array([[-4.75718405],\n        [ 2.76938972],\n        [ 2.08227618]]),\n array([[-4.75712159],\n        [ 2.7695659 ],\n        [ 2.08225373]])]"
     },
     "execution_count": 17,
     "metadata": {},
     "output_type": "execute_result"
    }
   ],
   "source": [
    "A = np.array([[5, 2, 3], [-1, 4, 2], [2, -3, 10]])\n",
    "b = np.array([[-12], [20],[3]])\n",
    "x0 = [[0], [0], [0]]\n",
    "distance = ln\n",
    "e = 1e-4\n",
    "\n",
    "xlist = jacobi(A, x0, b, distance, e)\n",
    "xlist"
   ],
   "metadata": {
    "collapsed": false,
    "pycharm": {
     "name": "#%%\n"
    }
   }
  },
  {
   "cell_type": "code",
   "execution_count": 9,
   "outputs": [
    {
     "data": {
      "text/plain": "array([[-4.75720165],\n       [ 2.76954733],\n       [ 2.08230453]])"
     },
     "execution_count": 9,
     "metadata": {},
     "output_type": "execute_result"
    }
   ],
   "source": [
    "A = np.array([[5, 2, 3], [-1, 4, 2], [2, -3, 10]])\n",
    "b = np.array([[-12], [20],[3]])\n",
    "x = np.linalg.solve(A, b)\n",
    "x"
   ],
   "metadata": {
    "collapsed": false,
    "pycharm": {
     "name": "#%%\n"
    }
   }
  },
  {
   "cell_type": "markdown",
   "source": [
    "## 对角矩阵相关补充\n",
    "\n",
    "+ np.diagonal(A): 提取对角线元素\n",
    "+ np.diag([1,2,3,4]): 根据列表生成一个对角矩阵"
   ],
   "metadata": {
    "collapsed": false
   }
  },
  {
   "cell_type": "code",
   "execution_count": 11,
   "outputs": [
    {
     "data": {
      "text/plain": "array([[ 5,  0,  0],\n       [ 0,  4,  0],\n       [ 0,  0, 10]])"
     },
     "execution_count": 11,
     "metadata": {},
     "output_type": "execute_result"
    }
   ],
   "source": [
    "np.diag(np.diagonal(A))"
   ],
   "metadata": {
    "collapsed": false,
    "pycharm": {
     "name": "#%%\n"
    }
   }
  },
  {
   "cell_type": "code",
   "execution_count": 14,
   "outputs": [],
   "source": [
    "a = np.diagonal(A).reshape(-1,1)"
   ],
   "metadata": {
    "collapsed": false,
    "pycharm": {
     "name": "#%%\n"
    }
   }
  },
  {
   "cell_type": "code",
   "execution_count": 15,
   "outputs": [
    {
     "data": {
      "text/plain": "array([[ 25],\n       [ 16],\n       [100]])"
     },
     "execution_count": 15,
     "metadata": {},
     "output_type": "execute_result"
    }
   ],
   "source": [
    "a * a\n"
   ],
   "metadata": {
    "collapsed": false,
    "pycharm": {
     "name": "#%%\n"
    }
   }
  },
  {
   "cell_type": "code",
   "execution_count": null,
   "outputs": [],
   "source": [],
   "metadata": {
    "collapsed": false,
    "pycharm": {
     "name": "#%%\n"
    }
   }
  }
 ],
 "metadata": {
  "kernelspec": {
   "display_name": "Python 3",
   "language": "python",
   "name": "python3"
  },
  "language_info": {
   "codemirror_mode": {
    "name": "ipython",
    "version": 2
   },
   "file_extension": ".py",
   "mimetype": "text/x-python",
   "name": "python",
   "nbconvert_exporter": "python",
   "pygments_lexer": "ipython2",
   "version": "2.7.6"
  }
 },
 "nbformat": 4,
 "nbformat_minor": 0
}