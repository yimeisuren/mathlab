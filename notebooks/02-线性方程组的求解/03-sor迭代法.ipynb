{
 "cells": [
  {
   "cell_type": "markdown",
   "source": [
    "# sor迭代法\n",
    "\n",
    "$x =w\\left[D^{-1} b-D^{-1} L x-D^{-1} R x\\right]+(1-w) x$\n",
    "\n",
    "$x^{(k+1)} =w\\left[D^{-1} b-D^{-1} L x^{(k+1)}-D^{-1} R x^{(k)}\\right]+(1-w) x^{(k)}$"
   ],
   "metadata": {
    "collapsed": false
   }
  },
  {
   "cell_type": "code",
   "execution_count": null,
   "metadata": {
    "collapsed": true
   },
   "outputs": [],
   "source": []
  }
 ],
 "metadata": {
  "kernelspec": {
   "display_name": "Python 3",
   "language": "python",
   "name": "python3"
  },
  "language_info": {
   "codemirror_mode": {
    "name": "ipython",
    "version": 2
   },
   "file_extension": ".py",
   "mimetype": "text/x-python",
   "name": "python",
   "nbconvert_exporter": "python",
   "pygments_lexer": "ipython2",
   "version": "2.7.6"
  }
 },
 "nbformat": 4,
 "nbformat_minor": 0
}