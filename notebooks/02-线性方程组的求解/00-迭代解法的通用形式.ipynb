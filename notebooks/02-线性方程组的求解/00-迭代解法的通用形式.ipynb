{
 "cells": [
  {
   "cell_type": "markdown",
   "source": [
    "# 迭代解法\n",
    "\n",
    "\\begin{aligned}\n",
    "A x &=b \\\\\n",
    "0 &=b-A x \\\\\n",
    "0 &=w(b-A x) \\\\\n",
    "D x &=w(b-A x)+D x \\\\\n",
    "D x &=w[b-(L+R+D) x]+D x \\\\\n",
    "D x &=w[b-(L+R) x]+(1-w) D x \\\\\n",
    "x &=w\\left[D^{-1} b-D^{-1} L x-D^{-1} R x\\right]+(1-w) x\n",
    "\\end{aligned}\n",
    "\n",
    "# 各种迭代解法的差异\n",
    "+ 不同的 $w$ 值\n",
    "+ $D^{-1}Lx = D^{-1}Lx^{(k+1)}$ 或者 $D^{-1}Lx = D^{-1}Lx^{(k)}$"
   ],
   "metadata": {
    "collapsed": false
   }
  }
 ],
 "metadata": {
  "kernelspec": {
   "display_name": "Python 3",
   "language": "python",
   "name": "python3"
  },
  "language_info": {
   "codemirror_mode": {
    "name": "ipython",
    "version": 2
   },
   "file_extension": ".py",
   "mimetype": "text/x-python",
   "name": "python",
   "nbconvert_exporter": "python",
   "pygments_lexer": "ipython2",
   "version": "2.7.6"
  }
 },
 "nbformat": 4,
 "nbformat_minor": 0
}