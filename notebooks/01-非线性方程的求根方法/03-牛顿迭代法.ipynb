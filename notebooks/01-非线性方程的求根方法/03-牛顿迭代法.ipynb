{
 "cells": [
  {
   "cell_type": "markdown",
   "source": [
    "# Newton迭代法\n",
    "\n",
    "思想: 将函数 f(x) 做线性化处理, 即将 f(x) 在某点展开为 Taylor 级数后，取其线性部分\n",
    "L(x)代替f(x), 把方程 f(x)=0 转化为对应的近似方程 L(x)=0, 再从 L(x)=0 中构造迭代公式"
   ],
   "metadata": {
    "collapsed": false
   }
  },
  {
   "cell_type": "code",
   "execution_count": null,
   "metadata": {
    "collapsed": true
   },
   "outputs": [],
   "source": []
  }
 ],
 "metadata": {
  "kernelspec": {
   "display_name": "Python 3",
   "language": "python",
   "name": "python3"
  },
  "language_info": {
   "codemirror_mode": {
    "name": "ipython",
    "version": 2
   },
   "file_extension": ".py",
   "mimetype": "text/x-python",
   "name": "python",
   "nbconvert_exporter": "python",
   "pygments_lexer": "ipython2",
   "version": "2.7.6"
  }
 },
 "nbformat": 4,
 "nbformat_minor": 0
}