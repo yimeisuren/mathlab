{
 "cells": [
  {
   "cell_type": "markdown",
   "source": [
    "# 二分法\n",
    "\n",
    "例题\n",
    "> 用二分法求方程 $2x^3-5x-1=0$ 在区间 [1,2] 内的根，要求根的绝对误差 $e ≤ 10^{-2}$ ."
   ],
   "metadata": {
    "collapsed": false
   }
  },
  {
   "cell_type": "markdown",
   "source": [
    "## 1. 定义函数表达式"
   ],
   "metadata": {
    "collapsed": false
   }
  },
  {
   "cell_type": "code",
   "execution_count": 4,
   "metadata": {
    "collapsed": true
   },
   "outputs": [],
   "source": [
    "def f(x):\n",
    "    return 2 * x ** 3 - 5 * x - 1"
   ]
  },
  {
   "cell_type": "markdown",
   "source": [
    "## 2. 检验端点值 $f(a)*f(b)<0$"
   ],
   "metadata": {
    "collapsed": false
   }
  },
  {
   "cell_type": "code",
   "execution_count": 5,
   "outputs": [
    {
     "name": "stdout",
     "output_type": "stream",
     "text": [
      "-4\n",
      "5\n"
     ]
    }
   ],
   "source": [
    "print(f(1))\n",
    "print(f(2))"
   ],
   "metadata": {
    "collapsed": false,
    "pycharm": {
     "name": "#%%\n"
    }
   }
  },
  {
   "cell_type": "markdown",
   "source": [
    "## 3. 二分搜索, 直到满足精度要求"
   ],
   "metadata": {
    "collapsed": false
   }
  },
  {
   "cell_type": "code",
   "execution_count": 8,
   "outputs": [
    {
     "name": "stdout",
     "output_type": "stream",
     "text": [
      "1.671875\n"
     ]
    }
   ],
   "source": [
    "def binary_search(lo, hi, e, func):\n",
    "    while True:\n",
    "        # 精度条件\n",
    "        if hi - lo < e:\n",
    "            break\n",
    "\n",
    "        mid = (lo + hi) / 2\n",
    "        if func(mid) == 0:\n",
    "            return mid\n",
    "\n",
    "        if func(mid) * func(lo) < 0:\n",
    "            hi = mid\n",
    "        else:\n",
    "            lo = mid\n",
    "    return lo\n",
    "\n",
    "\n",
    "lo = 1\n",
    "hi = 2\n",
    "e = 1e-2\n",
    "print(binary_search(lo, hi, e, f))"
   ],
   "metadata": {
    "collapsed": false,
    "pycharm": {
     "name": "#%%\n"
    }
   }
  },
  {
   "cell_type": "code",
   "execution_count": null,
   "outputs": [],
   "source": [],
   "metadata": {
    "collapsed": false,
    "pycharm": {
     "name": "#%%\n"
    }
   }
  }
 ],
 "metadata": {
  "kernelspec": {
   "display_name": "Python 3",
   "language": "python",
   "name": "python3"
  },
  "language_info": {
   "codemirror_mode": {
    "name": "ipython",
    "version": 2
   },
   "file_extension": ".py",
   "mimetype": "text/x-python",
   "name": "python",
   "nbconvert_exporter": "python",
   "pygments_lexer": "ipython2",
   "version": "2.7.6"
  }
 },
 "nbformat": 4,
 "nbformat_minor": 0
}