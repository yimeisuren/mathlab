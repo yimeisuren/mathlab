{
 "cells": [
  {
   "cell_type": "markdown",
   "source": [
    "# 简单迭代法\n",
    "\n",
    "思想: 选择合适的形式, 将方程通过恒等变形转化为 $x = f(x)$, 改写成迭代式 $x_{k+1} = f(x_k)$\n",
    "\n",
    "+ **$f(x)$ 可以是任意形式, 但是不能保证收敛**\n",
    "+ 缺点是不易找到收敛最快的迭代函数和只是局部收敛，主要用于迭代的理论分析上\n",
    "\n",
    "例题\n",
    "> 用简单迭代法求方程 $x^3+2x^2+10x-20=0$ 在 x=1 附近的根，计算结果准确到4位有效数字，\n",
    "\n",
    "+ 准确到4位有效数字时应有误差限 $e=0.5 × 10^{-(4-1)}$"
   ],
   "metadata": {
    "collapsed": false
   }
  },
  {
   "cell_type": "code",
   "execution_count": 24,
   "metadata": {
    "collapsed": true
   },
   "outputs": [],
   "source": [
    "import math\n",
    "\n",
    "\n",
    "def f(x):\n",
    "    return 20 / (x ** 2 + 2 * x + 10)"
   ]
  },
  {
   "cell_type": "code",
   "execution_count": 25,
   "outputs": [],
   "source": [
    "def simple_iteration(x, e, func):\n",
    "    i = 0\n",
    "    while True:\n",
    "        i += 1\n",
    "        newX = func(x)\n",
    "        if abs(newX - x) < e:\n",
    "            return i, newX\n",
    "        x = newX"
   ],
   "metadata": {
    "collapsed": false,
    "pycharm": {
     "name": "#%%\n"
    }
   }
  },
  {
   "cell_type": "code",
   "execution_count": 26,
   "outputs": [
    {
     "name": "stdout",
     "output_type": "stream",
     "text": [
      "迭代次数:13, 结果:1.368730410398322\n",
      "迭代次数:13, 结果:1.368730410396521\n",
      "迭代次数:13, 结果:1.3687304103947255\n",
      "迭代次数:13, 结果:1.3687304103929354\n",
      "迭代次数:13, 结果:1.3687304103911504\n",
      "迭代次数:13, 结果:1.368730410389371\n",
      "迭代次数:13, 结果:1.3687304103875966\n",
      "迭代次数:13, 结果:1.368730410385828\n",
      "迭代次数:13, 结果:1.3687304103840638\n",
      "迭代次数:13, 结果:1.3687304103823055\n"
     ]
    }
   ],
   "source": [
    "e = 0.5 * 1e-3\n",
    "for i in range(1000, 1010):\n",
    "    count, x = simple_iteration(i, e, f)\n",
    "    print(f\"迭代次数:{count}, 结果:{x}\")"
   ],
   "metadata": {
    "collapsed": false,
    "pycharm": {
     "name": "#%%\n"
    }
   }
  },
  {
   "cell_type": "code",
   "execution_count": 27,
   "outputs": [
    {
     "name": "stdout",
     "output_type": "stream",
     "text": [
      "29\n",
      "2.0\n"
     ]
    }
   ],
   "source": [
    "\n",
    "def g(x):\n",
    "    return math.sqrt(2 + x)\n",
    "\n",
    "\n",
    "i, x = simple_iteration(0, 1e-20, g)\n",
    "print(i)\n",
    "print(x)"
   ],
   "metadata": {
    "collapsed": false,
    "pycharm": {
     "name": "#%%\n"
    }
   }
  },
  {
   "cell_type": "code",
   "execution_count": 29,
   "outputs": [
    {
     "ename": "ZeroDivisionError",
     "evalue": "float division by zero",
     "output_type": "error",
     "traceback": [
      "\u001B[1;31m---------------------------------------------------------------------------\u001B[0m",
      "\u001B[1;31mZeroDivisionError\u001B[0m                         Traceback (most recent call last)",
      "Input \u001B[1;32mIn [29]\u001B[0m, in \u001B[0;36m<cell line: 5>\u001B[1;34m()\u001B[0m\n\u001B[0;32m      1\u001B[0m \u001B[38;5;28;01mdef\u001B[39;00m \u001B[38;5;21mf2\u001B[39m(x):\n\u001B[0;32m      2\u001B[0m     \u001B[38;5;28;01mreturn\u001B[39;00m \u001B[38;5;241m1\u001B[39m \u001B[38;5;241m/\u001B[39m (x \u001B[38;5;241m*\u001B[39m\u001B[38;5;241m*\u001B[39m \u001B[38;5;241m2\u001B[39m \u001B[38;5;241m-\u001B[39m \u001B[38;5;241m1\u001B[39m)\n\u001B[1;32m----> 5\u001B[0m i, x \u001B[38;5;241m=\u001B[39m \u001B[43msimple_iteration\u001B[49m\u001B[43m(\u001B[49m\u001B[38;5;241;43m2\u001B[39;49m\u001B[43m,\u001B[49m\u001B[43m \u001B[49m\u001B[38;5;241;43m1e-10\u001B[39;49m\u001B[43m,\u001B[49m\u001B[43m \u001B[49m\u001B[43mf2\u001B[49m\u001B[43m)\u001B[49m\n\u001B[0;32m      6\u001B[0m \u001B[38;5;28mprint\u001B[39m(\u001B[38;5;124mf\u001B[39m\u001B[38;5;124m\"\u001B[39m\u001B[38;5;124m迭代次数:\u001B[39m\u001B[38;5;132;01m{\u001B[39;00mi\u001B[38;5;132;01m}\u001B[39;00m\u001B[38;5;124m, 结果:\u001B[39m\u001B[38;5;132;01m{\u001B[39;00mx\u001B[38;5;132;01m}\u001B[39;00m\u001B[38;5;124m\"\u001B[39m)\n",
      "Input \u001B[1;32mIn [25]\u001B[0m, in \u001B[0;36msimple_iteration\u001B[1;34m(x, e, func)\u001B[0m\n\u001B[0;32m      3\u001B[0m \u001B[38;5;28;01mwhile\u001B[39;00m \u001B[38;5;28;01mTrue\u001B[39;00m:\n\u001B[0;32m      4\u001B[0m     i \u001B[38;5;241m+\u001B[39m\u001B[38;5;241m=\u001B[39m \u001B[38;5;241m1\u001B[39m\n\u001B[1;32m----> 5\u001B[0m     newX \u001B[38;5;241m=\u001B[39m \u001B[43mfunc\u001B[49m\u001B[43m(\u001B[49m\u001B[43mx\u001B[49m\u001B[43m)\u001B[49m\n\u001B[0;32m      6\u001B[0m     \u001B[38;5;28;01mif\u001B[39;00m \u001B[38;5;28mabs\u001B[39m(newX \u001B[38;5;241m-\u001B[39m x) \u001B[38;5;241m<\u001B[39m e:\n\u001B[0;32m      7\u001B[0m         \u001B[38;5;28;01mreturn\u001B[39;00m i, newX\n",
      "Input \u001B[1;32mIn [29]\u001B[0m, in \u001B[0;36mf2\u001B[1;34m(x)\u001B[0m\n\u001B[0;32m      1\u001B[0m \u001B[38;5;28;01mdef\u001B[39;00m \u001B[38;5;21mf2\u001B[39m(x):\n\u001B[1;32m----> 2\u001B[0m     \u001B[38;5;28;01mreturn\u001B[39;00m \u001B[38;5;241;43m1\u001B[39;49m\u001B[43m \u001B[49m\u001B[38;5;241;43m/\u001B[39;49m\u001B[43m \u001B[49m\u001B[43m(\u001B[49m\u001B[43mx\u001B[49m\u001B[43m \u001B[49m\u001B[38;5;241;43m*\u001B[39;49m\u001B[38;5;241;43m*\u001B[39;49m\u001B[43m \u001B[49m\u001B[38;5;241;43m2\u001B[39;49m\u001B[43m \u001B[49m\u001B[38;5;241;43m-\u001B[39;49m\u001B[43m \u001B[49m\u001B[38;5;241;43m1\u001B[39;49m\u001B[43m)\u001B[49m\n",
      "\u001B[1;31mZeroDivisionError\u001B[0m: float division by zero"
     ]
    }
   ],
   "source": [
    "def f2(x):\n",
    "    return 1 / (x ** 2 - 1)\n",
    "\n",
    "\n",
    "i, x = simple_iteration(2, 1e-10, f2)\n",
    "print(f\"迭代次数:{i}, 结果:{x}\")"
   ],
   "metadata": {
    "collapsed": false,
    "pycharm": {
     "name": "#%%\n"
    }
   }
  },
  {
   "cell_type": "code",
   "execution_count": null,
   "outputs": [],
   "source": [],
   "metadata": {
    "collapsed": false,
    "pycharm": {
     "name": "#%%\n"
    }
   }
  }
 ],
 "metadata": {
  "kernelspec": {
   "display_name": "Python 3",
   "language": "python",
   "name": "python3"
  },
  "language_info": {
   "codemirror_mode": {
    "name": "ipython",
    "version": 2
   },
   "file_extension": ".py",
   "mimetype": "text/x-python",
   "name": "python",
   "nbconvert_exporter": "python",
   "pygments_lexer": "ipython2",
   "version": "2.7.6"
  }
 },
 "nbformat": 4,
 "nbformat_minor": 0
}