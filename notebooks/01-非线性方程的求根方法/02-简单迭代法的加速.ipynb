{
 "cells": [
  {
   "cell_type": "markdown",
   "source": [
    "# 增量松弛法\n",
    "\n",
    "1. 引入增量\n",
    "\n",
    "    $x = f(x) \\to x = f(x) + (f(x)-x) \\triangleq g(x)$\n",
    "\n",
    "2. 引入松弛因子\n",
    "\n",
    "    $x = g(x) \\to x = f(x) + C*(f(x)-x) \\triangleq h(x)$\n",
    "\n",
    "    要得到收敛更快的迭代函数，选择C使得 $h'(x_*)=0$ 最理想, 但是 $x_*$ 未知, 使用 $x_k$ 近似\n",
    "\n",
    "    $$x _ { k + 1 } = f ( x _ { k } ) + \\frac { w _ { k } } { 1 - w _ { k } } ( f ( x _ { k } ) - x _ { k } ) = \\frac { 1 } { 1 - w _ { k } } f ( x _ { k } ) - \\frac { w _ { k } } { 1 - w _ { k } } x _ { k }$$\n",
    "\n",
    "    其中 $w_k = h'(k) = \\frac{h(x_k)-h(x_{k-1})}{x_{k}-x_{k-1}} = \\frac{h(x_k)-x_k}{x_{k}-x_{k-1}}$"
   ],
   "metadata": {
    "collapsed": false
   }
  },
  {
   "cell_type": "code",
   "execution_count": null,
   "metadata": {
    "collapsed": true
   },
   "outputs": [],
   "source": []
  },
  {
   "cell_type": "markdown",
   "source": [
    "# Aitken校正法\n",
    "\n",
    "1. 在求得 $x_k$ 后进行两次校正\n",
    "\n",
    "    $$x _ { k + 1 } ^ { ( 1 ) } = f ( x _ { k } ) , x _ { k + 1 } ^ { ( 2 ) } = f ( x _ { k + 1 } ^ { ( 1 ) } )$$\n",
    "\n",
    "2. 采用微分中值定理, 并**假设两个斜率相等**, 解出 $x_*$\n",
    "\n",
    "    $$x_* \\approx x _ { k } - \\frac { ( x _ { k + 1 } ^ { ( 1 ) }  - x _ { k } ) ^ { 2 } } { x _ { k + 1 }^ { ( 2 ) } - 2 x _ { k + 1 }^ { ( 1 ) } + x _ { k } }$$"
   ],
   "metadata": {
    "collapsed": false
   }
  },
  {
   "cell_type": "markdown",
   "source": [
    "例题\n",
    "> 用加速方法求方程 $x^3-x-1=0$ 在 $x=1.5$ 附近的根"
   ],
   "metadata": {
    "collapsed": false
   }
  },
  {
   "cell_type": "code",
   "execution_count": 4,
   "outputs": [],
   "source": [
    "def f_n(x, n, func):\n",
    "    # 校验一次\n",
    "    if n == 1:\n",
    "        return func(x)\n",
    "    # 校验n次\n",
    "    return f_n(func(x), n - 1, func)\n",
    "\n",
    "\n",
    "# aitken迭代公式\n",
    "def h(x, func):\n",
    "    return x - (f_n(x, 1, func) - x) ** 2 / (f_n(x, 2, func) - 2 * f_n(x, 1, func) + x)\n",
    "\n",
    "\n",
    "def aitken_iteration(x, e, func):\n",
    "    i = 0\n",
    "    while True:\n",
    "        i += 1\n",
    "        newX = h(x, func)\n",
    "        if abs(newX - x) < e:\n",
    "            return i, newX\n",
    "        x = newX"
   ],
   "metadata": {
    "collapsed": false,
    "pycharm": {
     "name": "#%%\n"
    }
   }
  },
  {
   "cell_type": "code",
   "execution_count": 6,
   "outputs": [
    {
     "name": "stdout",
     "output_type": "stream",
     "text": [
      "迭代次数:7, 结果:1.324717957244746\n"
     ]
    }
   ],
   "source": [
    "def f1(x):\n",
    "    return x ** 3 - 1\n",
    "\n",
    "\n",
    "i, x = aitken_iteration(1.5, 1e-10, f1)\n",
    "print(f\"迭代次数:{i}, 结果:{x}\")"
   ],
   "metadata": {
    "collapsed": false,
    "pycharm": {
     "name": "#%%\n"
    }
   }
  },
  {
   "cell_type": "code",
   "execution_count": 7,
   "outputs": [
    {
     "name": "stdout",
     "output_type": "stream",
     "text": [
      "迭代次数:18, 结果:1.324717957244746\n"
     ]
    }
   ],
   "source": [
    "def f2(x):\n",
    "    return 1 / (x ** 2 - 1)\n",
    "\n",
    "\n",
    "i, x = aitken_iteration(1.5, 1e-10, f2)\n",
    "print(f\"迭代次数:{i}, 结果:{x}\")"
   ],
   "metadata": {
    "collapsed": false,
    "pycharm": {
     "name": "#%%\n"
    }
   }
  },
  {
   "cell_type": "code",
   "execution_count": null,
   "outputs": [],
   "source": [],
   "metadata": {
    "collapsed": false,
    "pycharm": {
     "name": "#%%\n"
    }
   }
  }
 ],
 "metadata": {
  "kernelspec": {
   "display_name": "Python 3",
   "language": "python",
   "name": "python3"
  },
  "language_info": {
   "codemirror_mode": {
    "name": "ipython",
    "version": 2
   },
   "file_extension": ".py",
   "mimetype": "text/x-python",
   "name": "python",
   "nbconvert_exporter": "python",
   "pygments_lexer": "ipython2",
   "version": "2.7.6"
  }
 },
 "nbformat": 4,
 "nbformat_minor": 0
}