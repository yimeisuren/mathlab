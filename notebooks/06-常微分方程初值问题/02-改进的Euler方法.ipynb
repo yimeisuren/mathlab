{
 "cells": [
  {
   "cell_type": "markdown",
   "source": [
    "# 改进的Euler方法\n",
    "\n",
    "将公式 $y(x_{k+1}) = y(x_{k}) + \\Delta x * y'(\\epsilon)$ 中的 $\\epsilon$ 不只使用左端点, 而是使用左右两个端点, 即求积方法中的梯形公式\n",
    "\n",
    "$$y(x_{k+1}) = y(x_{k}) + \\Delta x * \\frac{y'(x_{k}) + y'(x_{k+1})}{2}$$\n",
    "\n",
    "因此改进的Euler方法是隐式方法, 其绝对稳定域为$\\lambda h < 0$, 但缺点是需要迭代求解\n",
    "\n",
    "**为了避免迭代求解方程**, 通过**显式法预测+隐式法校正**的方式进行求解, 此时稳定域会减小\n",
    "\n",
    "$$\\left. \\begin{array}  { l  }  { y _ { k + 1 } ^{(1)}= y _ { k } + h * f ( x _ { k } , y _ { k } ) } \\\\ { y _ { k + 1 } = y _ { k } + h  * \\frac { f ( x _ { k } , y _ { k } ) + f ( x _ { k + 1 } , y _ { k + 1 } ^{(1)} ) } { 2 }  } \\end{array} \\right.$$"
   ],
   "metadata": {
    "collapsed": false
   }
  },
  {
   "cell_type": "code",
   "execution_count": 13,
   "metadata": {
    "collapsed": true
   },
   "outputs": [],
   "source": [
    "from math import exp\n",
    "\n",
    "from matplotlib import pyplot as plt\n",
    "plt.rcParams['font.sans-serif'] = ['Simhei']  # 显示中文\n",
    "\n",
    "\n",
    "def improve_euler(x, b, y, h, f):\n",
    "    result = {x: y}\n",
    "    while True:\n",
    "        if x >= b:\n",
    "            break\n",
    "        # euler公式预测\n",
    "        y_tmp = y + h * f(x, y)\n",
    "        # 改进euler公式校正\n",
    "        y = y + h * (f(x, y) + f(x + h, y_tmp)) / 2\n",
    "        x = x + h\n",
    "        result[x] = y\n",
    "    return result\n"
   ]
  },
  {
   "cell_type": "code",
   "execution_count": 20,
   "outputs": [],
   "source": [
    "def y_grad(x, y):\n",
    "    return -100 * y\n",
    "\n",
    "\n",
    "def actual_f(x):\n",
    "    return exp(-100 * x)\n",
    "\n",
    "\n",
    "x0 = 0\n",
    "b = 0.1\n",
    "y0 = 1\n",
    "h = 0.015\n",
    "xydict = improve_euler(x0, b, y0, h, y_grad)\n"
   ],
   "metadata": {
    "collapsed": false,
    "pycharm": {
     "name": "#%%\n"
    }
   }
  },
  {
   "cell_type": "code",
   "execution_count": 21,
   "outputs": [
    {
     "data": {
      "text/plain": "<Figure size 432x288 with 1 Axes>",
      "image/png": "[encoded data removed]"
     },
     "metadata": {
      "needs_background": "light"
     },
     "output_type": "display_data"
    }
   ],
   "source": [
    "plt.plot(xydict.keys(), xydict.values(), 'b-', label='数值解')\n",
    "\n",
    "plt.plot(xydict.keys(), [actual_f(x) for x in xydict.keys()], 'r-', label='精确解')\n",
    "\n",
    "plt.legend()\n",
    "plt.show()"
   ],
   "metadata": {
    "collapsed": false,
    "pycharm": {
     "name": "#%%\n"
    }
   }
  },
  {
   "cell_type": "code",
   "execution_count": null,
   "outputs": [],
   "source": [],
   "metadata": {
    "collapsed": false,
    "pycharm": {
     "name": "#%%\n"
    }
   }
  }
 ],
 "metadata": {
  "kernelspec": {
   "display_name": "Python 3",
   "language": "python",
   "name": "python3"
  },
  "language_info": {
   "codemirror_mode": {
    "name": "ipython",
    "version": 2
   },
   "file_extension": ".py",
   "mimetype": "text/x-python",
   "name": "python",
   "nbconvert_exporter": "python",
   "pygments_lexer": "ipython2",
   "version": "2.7.6"
  }
 },
 "nbformat": 4,
 "nbformat_minor": 0
}