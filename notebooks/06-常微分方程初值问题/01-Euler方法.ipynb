{
 "cells": [
  {
   "cell_type": "markdown",
   "source": [
    "# Euler方法\n",
    "\n",
    "根据后向差分公式:  $y'(x_k) \\approx \\frac{y(x_{k+1})-y(x_{k})}{x_{k+1}-x_{k}}$\n",
    "\n",
    "可得 $y(x_{k+1}) = y(x_{k}) + \\Delta x * y'(x_{k})$, 其中用 h 表示步长 $\\Delta x$\n",
    "\n",
    "也可以认为是泰勒公式展开"
   ],
   "metadata": {
    "collapsed": false
   }
  },
  {
   "cell_type": "markdown",
   "source": [
    "例题\n",
    "> $y=-100y',0≤x≤0.1,y(0)=1$, 分别取 $h=0.025$ 用Euler方法求其数值解并与其准确解作比较。"
   ],
   "metadata": {
    "collapsed": false
   }
  },
  {
   "cell_type": "code",
   "execution_count": 15,
   "metadata": {
    "collapsed": true
   },
   "outputs": [],
   "source": [
    "from math import exp\n",
    "\n",
    "import matplotlib.pyplot as plt\n",
    "\n",
    "plt.rcParams['font.sans-serif'] = ['Simhei']  # 显示中文\n",
    "\n",
    "\n",
    "def euler(x, b, y, h, f):\n",
    "    result = {x: y}\n",
    "    while True:\n",
    "        if x >= b:\n",
    "            break\n",
    "        y = y + h * f(x, y)\n",
    "        x = x + h\n",
    "        result[x] = y\n",
    "    return result"
   ]
  },
  {
   "cell_type": "code",
   "execution_count": 20,
   "outputs": [],
   "source": [
    "def y_grad(x, y):\n",
    "    return -100 * y\n",
    "\n",
    "\n",
    "x0 = 0\n",
    "b = 0.1\n",
    "y0 = 1\n",
    "h = 0.015\n",
    "xydict = euler(x0, b, y0, h, y_grad)"
   ],
   "metadata": {
    "collapsed": false,
    "pycharm": {
     "name": "#%%\n"
    }
   }
  },
  {
   "cell_type": "markdown",
   "source": [
    "## 实际精确表达式"
   ],
   "metadata": {
    "collapsed": false
   }
  },
  {
   "cell_type": "code",
   "execution_count": 21,
   "outputs": [],
   "source": [
    "def actual_f(x):\n",
    "    return exp(-100 * x)"
   ],
   "metadata": {
    "collapsed": false,
    "pycharm": {
     "name": "#%%\n"
    }
   }
  },
  {
   "cell_type": "markdown",
   "source": [
    "## 实际值和数值解之间的差距\n",
    "\n",
    "> 可以修改h=0.025, h=0.015, h = 0.01进行测试"
   ],
   "metadata": {
    "collapsed": false
   }
  },
  {
   "cell_type": "code",
   "execution_count": 22,
   "outputs": [
    {
     "data": {
      "text/plain": "<Figure size 432x288 with 1 Axes>",
      "image/png": "[encoded data removed]"
     },
     "metadata": {
      "needs_background": "light"
     },
     "output_type": "display_data"
    }
   ],
   "source": [
    "plt.plot(xydict.keys(), xydict.values(), 'b-')\n",
    "\n",
    "plt.plot(xydict.keys(), [actual_f(x) for x in xydict.keys()], 'r-')\n",
    "\n",
    "plt.show()"
   ],
   "metadata": {
    "collapsed": false,
    "pycharm": {
     "name": "#%%\n"
    }
   }
  },
  {
   "cell_type": "markdown",
   "source": [
    "# 稳定性\n",
    "\n",
    "据稳定性定义，要想 $|e_{k+1}|≤|e_{k}|$, 只须 $|1+\\lambda h|≤1$\n",
    "\n",
    "使用Euler方法需要满足步长 $h$ 的取值在稳定区间内"
   ],
   "metadata": {
    "collapsed": false
   }
  },
  {
   "cell_type": "code",
   "execution_count": 19,
   "outputs": [
    {
     "data": {
      "text/plain": "<Figure size 432x288 with 1 Axes>",
      "image/png": "[encoded data removed]"
     },
     "metadata": {
      "needs_background": "light"
     },
     "output_type": "display_data"
    }
   ],
   "source": [
    "def y_grad(x, y):\n",
    "    return -100 * y\n",
    "\n",
    "\n",
    "x0 = 0\n",
    "b = 0.1\n",
    "y0 = 1\n",
    "h = 0.0001\n",
    "xydict = euler(x0, b, y0, h, y_grad)\n",
    "\n",
    "plt.plot(xydict.keys(), xydict.values(), 'b-', label='数值解')\n",
    "\n",
    "plt.plot(xydict.keys(), [actual_f(x) for x in xydict.keys()], 'r-', label='精确解')\n",
    "\n",
    "plt.legend()\n",
    "plt.show()"
   ],
   "metadata": {
    "collapsed": false,
    "pycharm": {
     "name": "#%%\n"
    }
   }
  },
  {
   "cell_type": "code",
   "execution_count": null,
   "outputs": [],
   "source": [],
   "metadata": {
    "collapsed": false,
    "pycharm": {
     "name": "#%%\n"
    }
   }
  }
 ],
 "metadata": {
  "kernelspec": {
   "display_name": "Python 3",
   "language": "python",
   "name": "python3"
  },
  "language_info": {
   "codemirror_mode": {
    "name": "ipython",
    "version": 2
   },
   "file_extension": ".py",
   "mimetype": "text/x-python",
   "name": "python",
   "nbconvert_exporter": "python",
   "pygments_lexer": "ipython2",
   "version": "2.7.6"
  }
 },
 "nbformat": 4,
 "nbformat_minor": 0
}