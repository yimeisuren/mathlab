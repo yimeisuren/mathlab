{
 "cells": [
  {
   "cell_type": "markdown",
   "source": [
    "# 线性多步法\n",
    "## 基于数值积分插值的方法: Adams (外插)公式\n",
    "$$y _ { k + 1 } = y _ { k } + h \\sum _ { i = 0 } ^ { n - 1 } \\beta _ { i } * f(x_{k-i}, y_{k-i})$$\n",
    "\n",
    "+ Adams内插公式比外插公式多了一项, 将 $f_{k-i}$ 改为 $f_{k+1-i}$\n",
    "\n",
    "其中$h = x _ { k + 1 } - x _ { k } , \\beta _ { i } = \\frac { 1 } { h } \\int _ { x _ { k } } ^ { x _ { k + 1 }  } l _ { i (n - 1) } ( x ) d x$"
   ],
   "metadata": {
    "collapsed": false
   }
  },
  {
   "cell_type": "markdown",
   "source": [
    "## 常用公式(四阶)\n",
    "$$y _ { k + 1 } = y _ { k } + \\frac { h } { 24 } ( 55 f _ { k } - 59 f _ { k - 1 } + 37 f _ { k - 2 } - 9 f _ { k - 3 } )$$\n",
    "\n",
    "$$y _ { k + 1 } = y _ { k } + \\frac { h } { 24 } ( 9 f _ { k + 1 } + 19 f _ { k } - 5 f _ { k - 1 } + f _ { k - 2 } )$$"
   ],
   "metadata": {
    "collapsed": false
   }
  },
  {
   "cell_type": "code",
   "execution_count": 1,
   "metadata": {
    "collapsed": true
   },
   "outputs": [],
   "source": [
    "\n",
    "\n",
    "def k1(x, y, f):\n",
    "    return f(x, y)\n",
    "\n",
    "\n",
    "def k2(x, y, h, k, f):\n",
    "    return f(x + 1 / 2 * h, y + h * 1 / 2 * k)\n",
    "\n",
    "\n",
    "def k3(x, y, h, k, f):\n",
    "    return f(x + 1 / 2 * h, y + h * 1 / 2 * k)\n",
    "\n",
    "\n",
    "def k4(x, y, h, k, f):\n",
    "    return f(x + h, y + h * k)\n",
    "\n",
    "\n",
    "def k_n(x, y, h, f):\n",
    "    k_1 = k1(x, y, f)\n",
    "    k_2 = k2(x, y, h, k_1, f)\n",
    "    k_3 = k3(x, y, h, k_2, f)\n",
    "    k_4 = k4(x, y, h, k_3, f)\n",
    "    return k_1, k_2, k_3, k_4\n",
    "\n",
    "\n",
    "def runge_kutta(x, y, b, h, f, k=-1):\n",
    "    xlist = [x]\n",
    "    ylist = [y]\n",
    "    flist = [f(x, y)]\n",
    "    i = 0\n",
    "    while True:\n",
    "        if x >= b or i >= k:\n",
    "            break\n",
    "        k_1, k_2, k_3, k_4 = k_n(x, y, h, f)\n",
    "        y = y + h * 1 / 6 * (k_1 + 2 * k_2 + 2 * k_3 + k_4)\n",
    "        x = x + h\n",
    "        xlist.append(x)\n",
    "        ylist.append(y)\n",
    "        flist.append(f(x, y))\n",
    "        i += 1\n",
    "    return xlist, ylist, flist\n",
    "\n",
    "\n",
    "def adams(x, y, b, h, f, k=4):\n",
    "    # 通过单步法获取f0,f1,f2,f3的值, 以及此时的x和y\n",
    "    xlist, ylist, flist = runge_kutta(x, y, b, h, f, k)\n",
    "    x = xlist[-1]\n",
    "    y = ylist[-1]\n",
    "    while True:\n",
    "        if x > b:\n",
    "            break\n",
    "\n",
    "        y = y + h * 1 / 24 * (55 * flist[-1] - 59 * flist[-2] + 37 * flist[-3] - 9 * flist[-4])\n",
    "        x = x + h\n",
    "        flist.append(f(x, y))\n",
    "        xlist.append(x)\n",
    "        ylist.append(y)\n",
    "    return xlist, ylist, flist"
   ]
  },
  {
   "cell_type": "code",
   "execution_count": 2,
   "outputs": [],
   "source": [
    "def y_grad(x, y):\n",
    "    return x + y\n",
    "\n",
    "\n",
    "x0 = 0\n",
    "y0 = 1\n",
    "b = 0.5\n",
    "h = 0.1\n",
    "f = y_grad\n",
    "xlist, ylist, flist = adams(x0, y0, b, h, f)"
   ],
   "metadata": {
    "collapsed": false,
    "pycharm": {
     "name": "#%%\n"
    }
   }
  },
  {
   "cell_type": "code",
   "execution_count": 4,
   "outputs": [
    {
     "data": {
      "text/plain": "[0, 0.1, 0.2, 0.30000000000000004, 0.4, 0.5, 0.6]"
     },
     "execution_count": 4,
     "metadata": {},
     "output_type": "execute_result"
    }
   ],
   "source": [
    "xlist"
   ],
   "metadata": {
    "collapsed": false,
    "pycharm": {
     "name": "#%%\n"
    }
   }
  },
  {
   "cell_type": "code",
   "execution_count": 5,
   "outputs": [
    {
     "data": {
      "text/plain": "[1,\n 1.1103416666666666,\n 1.2428051417013888,\n 1.3997169941250753,\n 1.5836484801613713,\n 1.7974321426549018,\n 2.04421460108746]"
     },
     "execution_count": 5,
     "metadata": {},
     "output_type": "execute_result"
    }
   ],
   "source": [
    "ylist"
   ],
   "metadata": {
    "collapsed": false,
    "pycharm": {
     "name": "#%%\n"
    }
   }
  },
  {
   "cell_type": "code",
   "execution_count": 3,
   "outputs": [
    {
     "data": {
      "text/plain": "<Figure size 432x288 with 1 Axes>",
      "image/png": "[encoded data removed]"
     },
     "metadata": {
      "needs_background": "light"
     },
     "output_type": "display_data"
    }
   ],
   "source": [
    "import matplotlib.pyplot as plt\n",
    "\n",
    "plt.plot(xlist, ylist, 'b-')\n",
    "\n",
    "plt.show()"
   ],
   "metadata": {
    "collapsed": false,
    "pycharm": {
     "name": "#%%\n"
    }
   }
  },
  {
   "cell_type": "code",
   "execution_count": null,
   "outputs": [],
   "source": [],
   "metadata": {
    "collapsed": false,
    "pycharm": {
     "name": "#%%\n"
    }
   }
  }
 ],
 "metadata": {
  "kernelspec": {
   "display_name": "Python 3",
   "language": "python",
   "name": "python3"
  },
  "language_info": {
   "codemirror_mode": {
    "name": "ipython",
    "version": 2
   },
   "file_extension": ".py",
   "mimetype": "text/x-python",
   "name": "python",
   "nbconvert_exporter": "python",
   "pygments_lexer": "ipython2",
   "version": "2.7.6"
  }
 },
 "nbformat": 4,
 "nbformat_minor": 0
}