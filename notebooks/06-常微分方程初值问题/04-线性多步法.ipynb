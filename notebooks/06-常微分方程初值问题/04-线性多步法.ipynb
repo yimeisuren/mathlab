{
 "cells": [
  {
   "cell_type": "markdown",
   "source": [
    "# Adams (外插)公式\n",
    "$$y _ { k + 1 } = y _ { k } + h \\sum _ { i = 0 } ^ { n - 1 } \\beta _ { i } * f(x_{k-i}, y_{k-i})$$\n",
    "\n",
    "+ Adams内插公式比外插公式多了一项, 将 $f_{k-i}$ 改为 $f_{k+1-i}$\n",
    "\n",
    "其中$h = x _ { k + 1 } - x _ { k } , \\beta _ { i } = \\frac { 1 } { h } \\int _ { x _ { k } } ^ { x _ { k + 1 }  } l _ { i (n - 1) } ( x ) d x$"
   ],
   "metadata": {
    "collapsed": false
   }
  },
  {
   "cell_type": "markdown",
   "source": [
    "# 常用公式(四阶)\n",
    "$$y _ { k + 1 } = y _ { k } + \\frac { h } { 24 } ( 55 f _ { k } - 59 f _ { k - 1 } + 37 f _ { k - 2 } - 9 f _ { k - 3 } )$$\n",
    "\n",
    "$$y _ { k + 1 } = y _ { k } + \\frac { h } { 24 } ( 9 f _ { k + 1 } + 19 f _ { k } - 5 f _ { k - 1 } + f _ { k - 2 } )$$"
   ],
   "metadata": {
    "collapsed": false
   }
  },
  {
   "cell_type": "code",
   "execution_count": null,
   "metadata": {
    "collapsed": true
   },
   "outputs": [],
   "source": [
    "def otherway(x, y, b, h, f, k=-1):\n",
    "    pass\n",
    "\n",
    "\n",
    "def adams(x, y, b, h, f, k=-1):\n",
    "    # 通过单步法获取f0,f1,f2,f3的值, 以及此时的x和y\n",
    "    xlist, ylist, flist = otherway(x, y, b, h, f, k)\n",
    "    x = xlist[-1]\n",
    "    y = ylist[-1]\n",
    "    while True:\n",
    "        if x > b:\n",
    "            break\n",
    "\n",
    "        y = y + h * 1 / 24 * (55 * flist[-1] - 59 * flist[-2] + 37 * flist[-3] - 9 * flist[-4])\n",
    "        x = x + h\n",
    "        flist.append(f(x, y))\n",
    "        xlist.append(x)\n",
    "        ylist.append(y)\n",
    "    return xlist, ylist"
   ]
  }
 ],
 "metadata": {
  "kernelspec": {
   "display_name": "Python 3",
   "language": "python",
   "name": "python3"
  },
  "language_info": {
   "codemirror_mode": {
    "name": "ipython",
    "version": 2
   },
   "file_extension": ".py",
   "mimetype": "text/x-python",
   "name": "python",
   "nbconvert_exporter": "python",
   "pygments_lexer": "ipython2",
   "version": "2.7.6"
  }
 },
 "nbformat": 4,
 "nbformat_minor": 0
}