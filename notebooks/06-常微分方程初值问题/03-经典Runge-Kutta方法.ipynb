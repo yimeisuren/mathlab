{
 "cells": [
  {
   "cell_type": "markdown",
   "source": [
    "# 经典Runge-Kutta方法\n",
    "\n",
    "\\begin{array}{l}\n",
    "y_{k+1}=y_k+h \\cdot \\frac{k_1+2 k_2+2 k_3+k_4}{6} \\\\\n",
    "k_1=f\\left(x_k, y_k\\right) \\\\\n",
    "k_2=f\\left(x_k+\\frac{1}{2} h, y_k+h \\cdot \\frac{1}{2} k_1\\right) \\\\\n",
    "k_3=f\\left(x_k+\\frac{1}{2} h, y_k+h \\cdot \\frac{1}{2} k_2\\right) \\\\\n",
    "k_4=f\\left(x_k+h, \\quad y_k+h \\cdot k_3\\right)\n",
    "\\end{array}"
   ],
   "metadata": {
    "collapsed": false
   }
  },
  {
   "cell_type": "code",
   "execution_count": 7,
   "metadata": {
    "collapsed": true
   },
   "outputs": [],
   "source": [
    "from matplotlib import pyplot as plt\n",
    "plt.rcParams['font.sans-serif'] = ['Simhei']  # 显示中文\n",
    "\n",
    "\n",
    "def k1(x, y, f):\n",
    "    return f(x, y)\n",
    "\n",
    "\n",
    "def k2(x, y, h, k, f):\n",
    "    return f(x + 1 / 2 * h, y + h * 1 / 2 * k)\n",
    "\n",
    "\n",
    "def k3(x, y, h, k, f):\n",
    "    return f(x + 1 / 2 * h, y + h * 1 / 2 * k)\n",
    "\n",
    "\n",
    "def k4(x, y, h, k, f):\n",
    "    return f(x + h, y + h * k)\n",
    "\n",
    "\n",
    "def k_n(x, y, h, f):\n",
    "    k_1 = k1(x, y, f)\n",
    "    k_2 = k2(x, y, h, k_1, f)\n",
    "    k_3 = k3(x, y, h, k_2, f)\n",
    "    k_4 = k4(x, y, h, k_3, f)\n",
    "    return k_1, k_2, k_3, k_4\n",
    "\n",
    "\n",
    "def runge_kutta(x, y, b, h, f):\n",
    "    result = {x: y}\n",
    "    while True:\n",
    "        if x >= b:\n",
    "            break\n",
    "        k_1, k_2, k_3, k_4 = k_n(x, y, h, f)\n",
    "        y = y + h * 1 / 6 * (k_1 + 2 * k_2 + 2 * k_3 + k_4)\n",
    "        x = x + h\n",
    "        result[x] = y\n",
    "    return result"
   ]
  },
  {
   "cell_type": "code",
   "execution_count": 10,
   "outputs": [
    {
     "data": {
      "text/plain": "{0: 1,\n 0.1: 1.0954455316930938,\n 0.2: 1.1832167455059932,\n 0.30000000000000004: 1.2649122283403924,\n 0.4: 1.3416423537503714,\n 0.5: 1.414215577890085,\n 0.6: 1.4832422227719921}"
     },
     "execution_count": 10,
     "metadata": {},
     "output_type": "execute_result"
    }
   ],
   "source": [
    "\n",
    "def y_grad(x, y):\n",
    "    return y - 2 * x / y\n",
    "\n",
    "\n",
    "x0 = 0\n",
    "y0 = 1\n",
    "b = 0.6\n",
    "h = 0.1\n",
    "f = y_grad\n",
    "xydict = runge_kutta(x0, y0, b, h, f)\n",
    "xydict"
   ],
   "metadata": {
    "collapsed": false,
    "pycharm": {
     "name": "#%%\n"
    }
   }
  },
  {
   "cell_type": "code",
   "execution_count": 9,
   "outputs": [
    {
     "data": {
      "text/plain": "<Figure size 432x288 with 1 Axes>",
      "image/png": "[encoded data removed]"
     },
     "metadata": {
      "needs_background": "light"
     },
     "output_type": "display_data"
    }
   ],
   "source": [
    "plt.plot(xydict.keys(), xydict.values(), 'b-', label='数值解')\n",
    "\n",
    "\n",
    "plt.legend()\n",
    "plt.show()"
   ],
   "metadata": {
    "collapsed": false,
    "pycharm": {
     "name": "#%%\n"
    }
   }
  },
  {
   "cell_type": "code",
   "execution_count": null,
   "outputs": [],
   "source": [],
   "metadata": {
    "collapsed": false,
    "pycharm": {
     "name": "#%%\n"
    }
   }
  }
 ],
 "metadata": {
  "kernelspec": {
   "display_name": "Python 3",
   "language": "python",
   "name": "python3"
  },
  "language_info": {
   "codemirror_mode": {
    "name": "ipython",
    "version": 2
   },
   "file_extension": ".py",
   "mimetype": "text/x-python",
   "name": "python",
   "nbconvert_exporter": "python",
   "pygments_lexer": "ipython2",
   "version": "2.7.6"
  }
 },
 "nbformat": 4,
 "nbformat_minor": 0
}