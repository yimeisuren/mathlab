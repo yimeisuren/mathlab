{
 "cells": [
  {
   "cell_type": "markdown",
   "source": [
    "# 问题\n",
    "在已知 $F(x,y,y')=0$ 和 初值条件 的情况下, 对于任意指定的 $x_{*}$, 计算出 $f(x_{*})$ 的值\n",
    "\n",
    "# 思想\n",
    "通过**知二得三**的思想, 通过 $x_0$ 和初值条件 $y(x_0)$ 可以计算出 $y'(x_0)$, 通过构造的递推关系式, 可以计算出 $y(x_1)$, 以此类推\n",
    "\n",
    "# 目标\n",
    "构造出 $y(x_{k+1})$ 与 $y(x_k), y'(x_k), ..., y(x_0), y'(x_0)$ 之间的关系"
   ],
   "metadata": {
    "collapsed": false
   }
  }
 ],
 "metadata": {
  "kernelspec": {
   "display_name": "Python 3",
   "language": "python",
   "name": "python3"
  },
  "language_info": {
   "codemirror_mode": {
    "name": "ipython",
    "version": 2
   },
   "file_extension": ".py",
   "mimetype": "text/x-python",
   "name": "python",
   "nbconvert_exporter": "python",
   "pygments_lexer": "ipython2",
   "version": "2.7.6"
  }
 },
 "nbformat": 4,
 "nbformat_minor": 0
}